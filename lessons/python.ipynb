{
 "cells": [
  {
   "cell_type": "markdown",
   "id": "37d636d8",
   "metadata": {},
   "source": [
    "# **Python**\n"
   ]
  },
  {
   "cell_type": "markdown",
   "id": "0181a5d3",
   "metadata": {},
   "source": [
    "### **Tipos de Dados**\n"
   ]
  },
  {
   "cell_type": "code",
   "execution_count": null,
   "id": "a66143b3",
   "metadata": {},
   "outputs": [],
   "source": [
    "inteiro = 5\n",
    "flutuante = 3.14\n",
    "string = \"texto\"\n",
    "booleano = True\n",
    "lista = [1, 2, 3]\n",
    "tupla = (1, 2, 3)\n",
    "dicionario = {\"chave\": \"valor\"}\n",
    "conjunto = {1, 2, 3}\n"
   ]
  },
  {
   "cell_type": "markdown",
   "id": "d4dc7249",
   "metadata": {},
   "source": [
    "### **Variáveis**\n"
   ]
  },
  {
   "cell_type": "markdown",
   "id": "de54e29d",
   "metadata": {},
   "source": [
    "##### Variáveis e Constantes\n"
   ]
  },
  {
   "cell_type": "code",
   "execution_count": null,
   "id": "0e25485b",
   "metadata": {},
   "outputs": [],
   "source": [
    "var1 = 10\n",
    "var2 = 15\n",
    "var3 = 20\n",
    "\n",
    "CONST1 = 100\n",
    "CONST2 = 200\n",
    "CONST3 = 300\n"
   ]
  },
  {
   "cell_type": "markdown",
   "id": "b3c9b4f6",
   "metadata": {},
   "source": [
    "### **Números**\n"
   ]
  },
  {
   "cell_type": "markdown",
   "id": "8af6abea",
   "metadata": {},
   "source": [
    "##### Operações com Números\n"
   ]
  },
  {
   "cell_type": "code",
   "execution_count": 5,
   "id": "05166d01",
   "metadata": {},
   "outputs": [],
   "source": [
    "adicao = 1 + 1\n",
    "substracao = 2 - 1\n",
    "multiplicacao = 2 * 2\n",
    "divisao = 4 / 2\n",
    "potenciacao = 2**3\n",
    "radiciacao = 4 ** (1 / 2)\n",
    "\n",
    "divisao_inteira = 5 // 2\n",
    "resto_divisao = 5 % 2\n"
   ]
  },
  {
   "cell_type": "markdown",
   "id": "cefd939a",
   "metadata": {},
   "source": [
    "### **Strings**\n"
   ]
  },
  {
   "cell_type": "markdown",
   "id": "e02a17a8",
   "metadata": {},
   "source": [
    "##### Operações com Strings\n"
   ]
  },
  {
   "cell_type": "code",
   "execution_count": 6,
   "id": "21a5437f",
   "metadata": {},
   "outputs": [],
   "source": [
    "python = \"Python\""
   ]
  },
  {
   "cell_type": "code",
   "execution_count": 7,
   "id": "2536278b",
   "metadata": {},
   "outputs": [],
   "source": [
    "concatenacao = \"Olá, \" + \"mundo!\"\n",
    "repeticao = \"Olá! \" * 3\n",
    "fatiamento = python[0:2]\n"
   ]
  },
  {
   "cell_type": "markdown",
   "id": "cbc4b59a",
   "metadata": {},
   "source": [
    "### **Booleanos**\n"
   ]
  },
  {
   "cell_type": "markdown",
   "id": "149d6611",
   "metadata": {},
   "source": [
    "##### Booleanos em Espécie\n"
   ]
  },
  {
   "cell_type": "code",
   "execution_count": null,
   "id": "8fcc5af9",
   "metadata": {},
   "outputs": [],
   "source": [
    "verdadeiro = True\n",
    "falso = False\n",
    "nulo = None\n"
   ]
  },
  {
   "cell_type": "markdown",
   "id": "5c43b6d6",
   "metadata": {},
   "source": [
    "##### Operações Comparativas\n"
   ]
  },
  {
   "cell_type": "code",
   "execution_count": null,
   "id": "ea0b3805",
   "metadata": {},
   "outputs": [],
   "source": [
    "maior = 10 > 5\n",
    "menor = 5 < 10\n",
    "maior_igual = 10 >= 5\n",
    "menor_igual = 5 <= 10\n",
    "igual = 10 == 10\n",
    "diferente = 10 != 5\n"
   ]
  },
  {
   "cell_type": "markdown",
   "id": "587d3035",
   "metadata": {},
   "source": [
    "##### Operações Lógicas\n"
   ]
  },
  {
   "cell_type": "code",
   "execution_count": null,
   "id": "4ceeeb45",
   "metadata": {},
   "outputs": [],
   "source": [
    "conjuncao = True and True\n",
    "disjuncao = False or False\n",
    "negacao = not False\n"
   ]
  },
  {
   "cell_type": "markdown",
   "id": "69b8dbdc",
   "metadata": {},
   "source": [
    "### **Listas**\n"
   ]
  },
  {
   "cell_type": "code",
   "execution_count": null,
   "id": "fae3761d",
   "metadata": {},
   "outputs": [],
   "source": [
    "lista = [1, 2, 3, 4, 5]\n",
    "tupla = (1, 2, 3, 4, 5)\n"
   ]
  },
  {
   "cell_type": "markdown",
   "id": "e69399a4",
   "metadata": {},
   "source": [
    "##### Operações com Listas\n"
   ]
  },
  {
   "cell_type": "code",
   "execution_count": null,
   "id": "a87fcac7",
   "metadata": {},
   "outputs": [],
   "source": [
    "lista1 = [1, 2, 3, 4, 5]\n",
    "lista2 = [6, 7, 8, 9, 10]\n"
   ]
  },
  {
   "cell_type": "code",
   "execution_count": 4,
   "id": "85c0c9bf",
   "metadata": {},
   "outputs": [],
   "source": [
    "concatenacao = lista1 + lista2\n",
    "repeticao = lista1 * 3\n",
    "fatiamento = lista1[1:3]\n"
   ]
  },
  {
   "cell_type": "markdown",
   "id": "bdd65644",
   "metadata": {},
   "source": [
    "### **Controle de Fluxo**\n"
   ]
  },
  {
   "cell_type": "code",
   "execution_count": null,
   "id": "9a4e05b9",
   "metadata": {},
   "outputs": [],
   "source": [
    "idade = 21\n",
    "\n",
    "if idade >= 18:\n",
    "    print(\"Maior de idade\")\n",
    "else:\n",
    "    print(\"Menor de idade\")\n"
   ]
  },
  {
   "cell_type": "markdown",
   "id": "58026694",
   "metadata": {},
   "source": [
    "### **Repetição (Loops)**\n"
   ]
  },
  {
   "cell_type": "markdown",
   "id": "2d6b63d8",
   "metadata": {},
   "source": [
    "##### For Loop\n"
   ]
  },
  {
   "cell_type": "code",
   "execution_count": null,
   "id": "529a9e38",
   "metadata": {},
   "outputs": [],
   "source": [
    "for i in range(10):\n",
    "    print(i)"
   ]
  },
  {
   "cell_type": "markdown",
   "id": "c528dd37",
   "metadata": {},
   "source": [
    "##### While Loop\n"
   ]
  },
  {
   "cell_type": "code",
   "execution_count": 2,
   "id": "0eb60624",
   "metadata": {},
   "outputs": [],
   "source": [
    "import time"
   ]
  },
  {
   "cell_type": "code",
   "execution_count": null,
   "id": "fb0e4dbf",
   "metadata": {},
   "outputs": [],
   "source": [
    "condicao = 0\n",
    "while True:\n",
    "    if condicao == 5:\n",
    "        break\n",
    "\n",
    "    condicao += 1\n",
    "    print(condicao)\n",
    "    time.sleep(1)"
   ]
  }
 ],
 "metadata": {
  "kernelspec": {
   "display_name": ".venv",
   "language": "python",
   "name": "python3"
  },
  "language_info": {
   "codemirror_mode": {
    "name": "ipython",
    "version": 3
   },
   "file_extension": ".py",
   "mimetype": "text/x-python",
   "name": "python",
   "nbconvert_exporter": "python",
   "pygments_lexer": "ipython3",
   "version": "3.12.10"
  }
 },
 "nbformat": 4,
 "nbformat_minor": 5
}
